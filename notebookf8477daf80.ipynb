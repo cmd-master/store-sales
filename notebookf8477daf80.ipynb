{
 "cells": [
  {
   "cell_type": "markdown",
   "id": "a3934548",
   "metadata": {
    "papermill": {
     "duration": 0.002732,
     "end_time": "2024-04-24T00:21:32.162638",
     "exception": false,
     "start_time": "2024-04-24T00:21:32.159906",
     "status": "completed"
    },
    "tags": []
   },
   "source": [
    "# Start\n",
    "## Introduction\n",
    "The client is\n",
    "\n",
    "To predict the number of units of each product category according to time."
   ]
  },
  {
   "cell_type": "code",
   "execution_count": 1,
   "id": "1dce76b5",
   "metadata": {
    "execution": {
     "iopub.execute_input": "2024-04-24T00:21:32.169243Z",
     "iopub.status.busy": "2024-04-24T00:21:32.168813Z",
     "iopub.status.idle": "2024-04-24T00:21:33.032806Z",
     "shell.execute_reply": "2024-04-24T00:21:33.031593Z"
    },
    "papermill": {
     "duration": 0.870876,
     "end_time": "2024-04-24T00:21:33.035811",
     "exception": false,
     "start_time": "2024-04-24T00:21:32.164935",
     "status": "completed"
    },
    "tags": []
   },
   "outputs": [],
   "source": [
    "import pandas as pd\n",
    "import numpy as np"
   ]
  },
  {
   "cell_type": "code",
   "execution_count": 2,
   "id": "186d5ac4",
   "metadata": {
    "execution": {
     "iopub.execute_input": "2024-04-24T00:21:33.042090Z",
     "iopub.status.busy": "2024-04-24T00:21:33.041580Z",
     "iopub.status.idle": "2024-04-24T00:21:36.454322Z",
     "shell.execute_reply": "2024-04-24T00:21:36.453186Z"
    },
    "papermill": {
     "duration": 3.41914,
     "end_time": "2024-04-24T00:21:36.457231",
     "exception": false,
     "start_time": "2024-04-24T00:21:33.038091",
     "status": "completed"
    },
    "tags": []
   },
   "outputs": [],
   "source": [
    "df = pd.read_csv('/kaggle/input/store-sales-time-series-forecasting/train.csv')"
   ]
  },
  {
   "cell_type": "code",
   "execution_count": 3,
   "id": "d76ad082",
   "metadata": {
    "execution": {
     "iopub.execute_input": "2024-04-24T00:21:36.465012Z",
     "iopub.status.busy": "2024-04-24T00:21:36.464571Z",
     "iopub.status.idle": "2024-04-24T00:21:36.484604Z",
     "shell.execute_reply": "2024-04-24T00:21:36.483556Z"
    },
    "papermill": {
     "duration": 0.026227,
     "end_time": "2024-04-24T00:21:36.486938",
     "exception": false,
     "start_time": "2024-04-24T00:21:36.460711",
     "status": "completed"
    },
    "tags": []
   },
   "outputs": [
    {
     "data": {
      "text/html": [
       "<div>\n",
       "<style scoped>\n",
       "    .dataframe tbody tr th:only-of-type {\n",
       "        vertical-align: middle;\n",
       "    }\n",
       "\n",
       "    .dataframe tbody tr th {\n",
       "        vertical-align: top;\n",
       "    }\n",
       "\n",
       "    .dataframe thead th {\n",
       "        text-align: right;\n",
       "    }\n",
       "</style>\n",
       "<table border=\"1\" class=\"dataframe\">\n",
       "  <thead>\n",
       "    <tr style=\"text-align: right;\">\n",
       "      <th></th>\n",
       "      <th>id</th>\n",
       "      <th>date</th>\n",
       "      <th>store_nbr</th>\n",
       "      <th>family</th>\n",
       "      <th>sales</th>\n",
       "      <th>onpromotion</th>\n",
       "    </tr>\n",
       "  </thead>\n",
       "  <tbody>\n",
       "    <tr>\n",
       "      <th>0</th>\n",
       "      <td>0</td>\n",
       "      <td>2013-01-01</td>\n",
       "      <td>1</td>\n",
       "      <td>AUTOMOTIVE</td>\n",
       "      <td>0.0</td>\n",
       "      <td>0</td>\n",
       "    </tr>\n",
       "    <tr>\n",
       "      <th>1</th>\n",
       "      <td>1</td>\n",
       "      <td>2013-01-01</td>\n",
       "      <td>1</td>\n",
       "      <td>BABY CARE</td>\n",
       "      <td>0.0</td>\n",
       "      <td>0</td>\n",
       "    </tr>\n",
       "    <tr>\n",
       "      <th>2</th>\n",
       "      <td>2</td>\n",
       "      <td>2013-01-01</td>\n",
       "      <td>1</td>\n",
       "      <td>BEAUTY</td>\n",
       "      <td>0.0</td>\n",
       "      <td>0</td>\n",
       "    </tr>\n",
       "    <tr>\n",
       "      <th>3</th>\n",
       "      <td>3</td>\n",
       "      <td>2013-01-01</td>\n",
       "      <td>1</td>\n",
       "      <td>BEVERAGES</td>\n",
       "      <td>0.0</td>\n",
       "      <td>0</td>\n",
       "    </tr>\n",
       "    <tr>\n",
       "      <th>4</th>\n",
       "      <td>4</td>\n",
       "      <td>2013-01-01</td>\n",
       "      <td>1</td>\n",
       "      <td>BOOKS</td>\n",
       "      <td>0.0</td>\n",
       "      <td>0</td>\n",
       "    </tr>\n",
       "  </tbody>\n",
       "</table>\n",
       "</div>"
      ],
      "text/plain": [
       "   id        date  store_nbr      family  sales  onpromotion\n",
       "0   0  2013-01-01          1  AUTOMOTIVE    0.0            0\n",
       "1   1  2013-01-01          1   BABY CARE    0.0            0\n",
       "2   2  2013-01-01          1      BEAUTY    0.0            0\n",
       "3   3  2013-01-01          1   BEVERAGES    0.0            0\n",
       "4   4  2013-01-01          1       BOOKS    0.0            0"
      ]
     },
     "execution_count": 3,
     "metadata": {},
     "output_type": "execute_result"
    }
   ],
   "source": [
    "df.head()"
   ]
  },
  {
   "cell_type": "code",
   "execution_count": null,
   "id": "5a3fda3c",
   "metadata": {
    "papermill": {
     "duration": 0.002053,
     "end_time": "2024-04-24T00:21:36.491471",
     "exception": false,
     "start_time": "2024-04-24T00:21:36.489418",
     "status": "completed"
    },
    "tags": []
   },
   "outputs": [],
   "source": []
  }
 ],
 "metadata": {
  "kaggle": {
   "accelerator": "none",
   "dataSources": [
    {
     "databundleVersionId": 2887556,
     "sourceId": 29781,
     "sourceType": "competition"
    }
   ],
   "isGpuEnabled": false,
   "isInternetEnabled": true,
   "language": "python",
   "sourceType": "notebook"
  },
  "kernelspec": {
   "display_name": "Python 3 (ipykernel)",
   "language": "python",
   "name": "python3"
  },
  "language_info": {
   "codemirror_mode": {
    "name": "ipython",
    "version": 3
   },
   "file_extension": ".py",
   "mimetype": "text/x-python",
   "name": "python",
   "nbconvert_exporter": "python",
   "pygments_lexer": "ipython3",
   "version": "3.10.13"
  },
  "papermill": {
   "default_parameters": {},
   "duration": 7.721969,
   "end_time": "2024-04-24T00:21:37.014513",
   "environment_variables": {},
   "exception": null,
   "input_path": "__notebook__.ipynb",
   "output_path": "__notebook__.ipynb",
   "parameters": {},
   "start_time": "2024-04-24T00:21:29.292544",
   "version": "2.5.0"
  }
 },
 "nbformat": 4,
 "nbformat_minor": 5
}

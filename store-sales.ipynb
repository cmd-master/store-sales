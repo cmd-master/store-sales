{
 "cells": [
  {
   "cell_type": "markdown",
   "id": "431f2cab",
   "metadata": {
    "papermill": {
     "duration": 0.006751,
     "end_time": "2024-04-27T01:30:04.180314",
     "exception": false,
     "start_time": "2024-04-27T01:30:04.173563",
     "status": "completed"
    },
    "tags": []
   },
   "source": [
    "# 📜Brief\n",
    "## Introduction\n",
    "The client is a large grocery store in Ecuador that wants to be more efficient in stocking inventory.\n",
    "\n",
    "## Problem\n",
    "If inventory is oversupplied, unsold items will go to waste and are cost to the grocery. If inventory is undersupplied, there wouldn't be enough items to sell that meets demand and they would miss the opportunity to earn more money.\n",
    "\n",
    "## Hypothesis\n",
    "If we are able to know how much inventory to supply in a given day, then we would minimize the cost of oversupplying items that does not sell and goes to waste. And maximizing revenue by having enough supply of items that we know will be in demand.\n",
    "\n",
    "## Goal\n",
    "To predict and forecast the inventory needed to meet the demand of market."
   ]
  },
  {
   "cell_type": "markdown",
   "id": "1a305fb1",
   "metadata": {
    "papermill": {
     "duration": 0.005977,
     "end_time": "2024-04-27T01:30:04.192387",
     "exception": false,
     "start_time": "2024-04-27T01:30:04.186410",
     "status": "completed"
    },
    "tags": []
   },
   "source": [
    "-----\n",
    "[Overview](https://www.kaggle.com/competitions/store-sales-time-series-forecasting)\n",
    "\n",
    "[Kaggle](https://www.kaggle.com/code/fiftythirtyfour/store-sales/)"
   ]
  },
  {
   "cell_type": "code",
   "execution_count": 1,
   "id": "1d2e315e",
   "metadata": {
    "execution": {
     "iopub.execute_input": "2024-04-27T01:30:04.207172Z",
     "iopub.status.busy": "2024-04-27T01:30:04.206479Z",
     "iopub.status.idle": "2024-04-27T01:30:06.548767Z",
     "shell.execute_reply": "2024-04-27T01:30:06.547519Z"
    },
    "papermill": {
     "duration": 2.352788,
     "end_time": "2024-04-27T01:30:06.551486",
     "exception": false,
     "start_time": "2024-04-27T01:30:04.198698",
     "status": "completed"
    },
    "tags": []
   },
   "outputs": [],
   "source": [
    "import pandas as pd\n",
    "import numpy as np\n",
    "import seaborn as sns\n",
    "pd.options.display.max_rows = 400\n",
    "import warnings\n",
    "warnings.filterwarnings('ignore')"
   ]
  },
  {
   "cell_type": "code",
   "execution_count": 2,
   "id": "4a3d4254",
   "metadata": {
    "execution": {
     "iopub.execute_input": "2024-04-27T01:30:06.565048Z",
     "iopub.status.busy": "2024-04-27T01:30:06.564558Z",
     "iopub.status.idle": "2024-04-27T01:30:09.868398Z",
     "shell.execute_reply": "2024-04-27T01:30:09.867464Z"
    },
    "papermill": {
     "duration": 3.313699,
     "end_time": "2024-04-27T01:30:09.870970",
     "exception": false,
     "start_time": "2024-04-27T01:30:06.557271",
     "status": "completed"
    },
    "tags": []
   },
   "outputs": [],
   "source": [
    "df = pd.read_csv('/kaggle/input/store-sales-time-series-forecasting/train.csv')"
   ]
  },
  {
   "cell_type": "code",
   "execution_count": 3,
   "id": "f540eb32",
   "metadata": {
    "execution": {
     "iopub.execute_input": "2024-04-27T01:30:09.885311Z",
     "iopub.status.busy": "2024-04-27T01:30:09.884695Z",
     "iopub.status.idle": "2024-04-27T01:30:09.910076Z",
     "shell.execute_reply": "2024-04-27T01:30:09.909096Z"
    },
    "papermill": {
     "duration": 0.036163,
     "end_time": "2024-04-27T01:30:09.913072",
     "exception": false,
     "start_time": "2024-04-27T01:30:09.876909",
     "status": "completed"
    },
    "tags": []
   },
   "outputs": [
    {
     "data": {
      "text/html": [
       "<div>\n",
       "<style scoped>\n",
       "    .dataframe tbody tr th:only-of-type {\n",
       "        vertical-align: middle;\n",
       "    }\n",
       "\n",
       "    .dataframe tbody tr th {\n",
       "        vertical-align: top;\n",
       "    }\n",
       "\n",
       "    .dataframe thead th {\n",
       "        text-align: right;\n",
       "    }\n",
       "</style>\n",
       "<table border=\"1\" class=\"dataframe\">\n",
       "  <thead>\n",
       "    <tr style=\"text-align: right;\">\n",
       "      <th></th>\n",
       "      <th>id</th>\n",
       "      <th>date</th>\n",
       "      <th>store_nbr</th>\n",
       "      <th>family</th>\n",
       "      <th>sales</th>\n",
       "      <th>onpromotion</th>\n",
       "    </tr>\n",
       "  </thead>\n",
       "  <tbody>\n",
       "    <tr>\n",
       "      <th>0</th>\n",
       "      <td>0</td>\n",
       "      <td>2013-01-01</td>\n",
       "      <td>1</td>\n",
       "      <td>AUTOMOTIVE</td>\n",
       "      <td>0.0</td>\n",
       "      <td>0</td>\n",
       "    </tr>\n",
       "    <tr>\n",
       "      <th>1</th>\n",
       "      <td>1</td>\n",
       "      <td>2013-01-01</td>\n",
       "      <td>1</td>\n",
       "      <td>BABY CARE</td>\n",
       "      <td>0.0</td>\n",
       "      <td>0</td>\n",
       "    </tr>\n",
       "    <tr>\n",
       "      <th>2</th>\n",
       "      <td>2</td>\n",
       "      <td>2013-01-01</td>\n",
       "      <td>1</td>\n",
       "      <td>BEAUTY</td>\n",
       "      <td>0.0</td>\n",
       "      <td>0</td>\n",
       "    </tr>\n",
       "    <tr>\n",
       "      <th>3</th>\n",
       "      <td>3</td>\n",
       "      <td>2013-01-01</td>\n",
       "      <td>1</td>\n",
       "      <td>BEVERAGES</td>\n",
       "      <td>0.0</td>\n",
       "      <td>0</td>\n",
       "    </tr>\n",
       "    <tr>\n",
       "      <th>4</th>\n",
       "      <td>4</td>\n",
       "      <td>2013-01-01</td>\n",
       "      <td>1</td>\n",
       "      <td>BOOKS</td>\n",
       "      <td>0.0</td>\n",
       "      <td>0</td>\n",
       "    </tr>\n",
       "  </tbody>\n",
       "</table>\n",
       "</div>"
      ],
      "text/plain": [
       "   id        date  store_nbr      family  sales  onpromotion\n",
       "0   0  2013-01-01          1  AUTOMOTIVE    0.0            0\n",
       "1   1  2013-01-01          1   BABY CARE    0.0            0\n",
       "2   2  2013-01-01          1      BEAUTY    0.0            0\n",
       "3   3  2013-01-01          1   BEVERAGES    0.0            0\n",
       "4   4  2013-01-01          1       BOOKS    0.0            0"
      ]
     },
     "execution_count": 3,
     "metadata": {},
     "output_type": "execute_result"
    }
   ],
   "source": [
    "df.head()"
   ]
  },
  {
   "cell_type": "code",
   "execution_count": 4,
   "id": "f8b08827",
   "metadata": {
    "execution": {
     "iopub.execute_input": "2024-04-27T01:30:09.927751Z",
     "iopub.status.busy": "2024-04-27T01:30:09.926604Z",
     "iopub.status.idle": "2024-04-27T01:30:10.535304Z",
     "shell.execute_reply": "2024-04-27T01:30:10.533963Z"
    },
    "papermill": {
     "duration": 0.618851,
     "end_time": "2024-04-27T01:30:10.538160",
     "exception": false,
     "start_time": "2024-04-27T01:30:09.919309",
     "status": "completed"
    },
    "tags": []
   },
   "outputs": [],
   "source": [
    "## Clean\n",
    "df['date'] = pd.to_datetime(df['date'])\n",
    "df['week'] = df['date'].dt.isocalendar().week\n",
    "df['year'] = df['date'].dt.year"
   ]
  },
  {
   "cell_type": "code",
   "execution_count": 5,
   "id": "74bcd790",
   "metadata": {
    "execution": {
     "iopub.execute_input": "2024-04-27T01:30:10.552605Z",
     "iopub.status.busy": "2024-04-27T01:30:10.552198Z",
     "iopub.status.idle": "2024-04-27T01:30:10.560585Z",
     "shell.execute_reply": "2024-04-27T01:30:10.559525Z"
    },
    "papermill": {
     "duration": 0.018789,
     "end_time": "2024-04-27T01:30:10.562974",
     "exception": false,
     "start_time": "2024-04-27T01:30:10.544185",
     "status": "completed"
    },
    "tags": []
   },
   "outputs": [],
   "source": [
    "## Organize\n",
    "target = 'sales'\n",
    "cat = [x for x in df.columns if df.dtypes[x] == 'object']\n",
    "num = [x for x in df.columns if df.dtypes[x] in ('int64', 'float64')]\n",
    "num.remove('id')\n",
    "num.remove('sales')"
   ]
  },
  {
   "cell_type": "code",
   "execution_count": 6,
   "id": "a4f6eb5f",
   "metadata": {
    "execution": {
     "iopub.execute_input": "2024-04-27T01:30:10.577413Z",
     "iopub.status.busy": "2024-04-27T01:30:10.577070Z",
     "iopub.status.idle": "2024-04-27T01:30:10.956255Z",
     "shell.execute_reply": "2024-04-27T01:30:10.955254Z"
    },
    "papermill": {
     "duration": 0.389783,
     "end_time": "2024-04-27T01:30:10.959009",
     "exception": false,
     "start_time": "2024-04-27T01:30:10.569226",
     "status": "completed"
    },
    "tags": []
   },
   "outputs": [],
   "source": [
    "## train test split\n",
    "train = df.loc[df['date'].dt.year != 2017]\n",
    "test = df.loc[df['date'].dt.year == 2017]"
   ]
  },
  {
   "cell_type": "markdown",
   "id": "4f021277",
   "metadata": {
    "papermill": {
     "duration": 0.005658,
     "end_time": "2024-04-27T01:30:10.971082",
     "exception": false,
     "start_time": "2024-04-27T01:30:10.965424",
     "status": "completed"
    },
    "tags": []
   },
   "source": [
    "# 🤓Data Science\n",
    "## Explore"
   ]
  },
  {
   "cell_type": "code",
   "execution_count": 7,
   "id": "8b0055ad",
   "metadata": {
    "execution": {
     "iopub.execute_input": "2024-04-27T01:30:10.985986Z",
     "iopub.status.busy": "2024-04-27T01:30:10.985591Z",
     "iopub.status.idle": "2024-04-27T01:30:11.255524Z",
     "shell.execute_reply": "2024-04-27T01:30:11.254261Z"
    },
    "papermill": {
     "duration": 0.281034,
     "end_time": "2024-04-27T01:30:11.258037",
     "exception": false,
     "start_time": "2024-04-27T01:30:10.977003",
     "status": "completed"
    },
    "tags": []
   },
   "outputs": [
    {
     "data": {
      "text/plain": [
       "family\n",
       "AUTOMOTIVE                    4.637980e+05\n",
       "BABY CARE                     7.314000e+03\n",
       "BEAUTY                        2.711820e+05\n",
       "BEVERAGES                     1.730019e+08\n",
       "BOOKS                         4.119000e+03\n",
       "BREAD/BAKERY                  3.529358e+07\n",
       "CELEBRATION                   5.950350e+05\n",
       "CLEANING                      8.202247e+07\n",
       "DAIRY                         5.303201e+07\n",
       "DELI                          2.022330e+07\n",
       "EGGS                          1.317154e+07\n",
       "FROZEN FOODS                  1.242512e+07\n",
       "GROCERY I                     2.863218e+08\n",
       "GROCERY II                    1.647202e+06\n",
       "HARDWARE                      8.611800e+04\n",
       "HOME AND KITCHEN I            1.447686e+06\n",
       "HOME AND KITCHEN II           1.155515e+06\n",
       "HOME APPLIANCES               3.460800e+04\n",
       "HOME CARE                     1.225962e+07\n",
       "LADIESWEAR                    5.041360e+05\n",
       "LAWN AND GARDEN               3.439240e+05\n",
       "LINGERIE                      5.671380e+05\n",
       "LIQUOR,WINE,BEER              6.632869e+06\n",
       "MAGAZINES                     1.873510e+05\n",
       "MEATS                         2.654557e+07\n",
       "PERSONAL CARE                 2.056240e+07\n",
       "PET SUPPLIES                  2.497660e+05\n",
       "PLAYERS AND ELECTRONICS       4.192480e+05\n",
       "POULTRY                       2.706109e+07\n",
       "PREPARED FOODS                7.560923e+06\n",
       "PRODUCE                       9.342928e+07\n",
       "SCHOOL AND OFFICE SUPPLIES    1.565380e+05\n",
       "SEAFOOD                       1.743742e+06\n",
       "Name: sales, dtype: float64"
      ]
     },
     "execution_count": 7,
     "metadata": {},
     "output_type": "execute_result"
    }
   ],
   "source": [
    "train.groupby(['family'])[target].sum()"
   ]
  },
  {
   "cell_type": "code",
   "execution_count": 8,
   "id": "2fabac87",
   "metadata": {
    "execution": {
     "iopub.execute_input": "2024-04-27T01:30:11.272243Z",
     "iopub.status.busy": "2024-04-27T01:30:11.271862Z",
     "iopub.status.idle": "2024-04-27T01:30:11.805536Z",
     "shell.execute_reply": "2024-04-27T01:30:11.804394Z"
    },
    "papermill": {
     "duration": 0.543444,
     "end_time": "2024-04-27T01:30:11.807785",
     "exception": false,
     "start_time": "2024-04-27T01:30:11.264341",
     "status": "completed"
    },
    "tags": []
   },
   "outputs": [
    {
     "data": {
      "text/html": [
       "<div>\n",
       "<style scoped>\n",
       "    .dataframe tbody tr th:only-of-type {\n",
       "        vertical-align: middle;\n",
       "    }\n",
       "\n",
       "    .dataframe tbody tr th {\n",
       "        vertical-align: top;\n",
       "    }\n",
       "\n",
       "    .dataframe thead th {\n",
       "        text-align: right;\n",
       "    }\n",
       "</style>\n",
       "<table border=\"1\" class=\"dataframe\">\n",
       "  <thead>\n",
       "    <tr style=\"text-align: right;\">\n",
       "      <th></th>\n",
       "      <th>count</th>\n",
       "      <th>mean</th>\n",
       "      <th>std</th>\n",
       "      <th>min</th>\n",
       "      <th>25%</th>\n",
       "      <th>50%</th>\n",
       "      <th>75%</th>\n",
       "      <th>max</th>\n",
       "    </tr>\n",
       "    <tr>\n",
       "      <th>family</th>\n",
       "      <th></th>\n",
       "      <th></th>\n",
       "      <th></th>\n",
       "      <th></th>\n",
       "      <th></th>\n",
       "      <th></th>\n",
       "      <th></th>\n",
       "      <th></th>\n",
       "    </tr>\n",
       "  </thead>\n",
       "  <tbody>\n",
       "    <tr>\n",
       "      <th>BOOKS</th>\n",
       "      <td>78678.0</td>\n",
       "      <td>0.052353</td>\n",
       "      <td>0.529964</td>\n",
       "      <td>0.0</td>\n",
       "      <td>0.00000</td>\n",
       "      <td>0.000000</td>\n",
       "      <td>0.00000</td>\n",
       "      <td>51.000</td>\n",
       "    </tr>\n",
       "    <tr>\n",
       "      <th>BABY CARE</th>\n",
       "      <td>78678.0</td>\n",
       "      <td>0.092961</td>\n",
       "      <td>0.676513</td>\n",
       "      <td>0.0</td>\n",
       "      <td>0.00000</td>\n",
       "      <td>0.000000</td>\n",
       "      <td>0.00000</td>\n",
       "      <td>116.000</td>\n",
       "    </tr>\n",
       "    <tr>\n",
       "      <th>HOME APPLIANCES</th>\n",
       "      <td>78678.0</td>\n",
       "      <td>0.439869</td>\n",
       "      <td>0.956899</td>\n",
       "      <td>0.0</td>\n",
       "      <td>0.00000</td>\n",
       "      <td>0.000000</td>\n",
       "      <td>1.00000</td>\n",
       "      <td>15.000</td>\n",
       "    </tr>\n",
       "    <tr>\n",
       "      <th>HARDWARE</th>\n",
       "      <td>78678.0</td>\n",
       "      <td>1.094563</td>\n",
       "      <td>1.607044</td>\n",
       "      <td>0.0</td>\n",
       "      <td>0.00000</td>\n",
       "      <td>1.000000</td>\n",
       "      <td>2.00000</td>\n",
       "      <td>49.000</td>\n",
       "    </tr>\n",
       "    <tr>\n",
       "      <th>BEAUTY</th>\n",
       "      <td>78678.0</td>\n",
       "      <td>3.446732</td>\n",
       "      <td>4.497405</td>\n",
       "      <td>0.0</td>\n",
       "      <td>0.00000</td>\n",
       "      <td>2.000000</td>\n",
       "      <td>5.00000</td>\n",
       "      <td>136.000</td>\n",
       "    </tr>\n",
       "    <tr>\n",
       "      <th>MAGAZINES</th>\n",
       "      <td>78678.0</td>\n",
       "      <td>2.381237</td>\n",
       "      <td>5.495999</td>\n",
       "      <td>0.0</td>\n",
       "      <td>0.00000</td>\n",
       "      <td>0.000000</td>\n",
       "      <td>2.00000</td>\n",
       "      <td>79.000</td>\n",
       "    </tr>\n",
       "    <tr>\n",
       "      <th>AUTOMOTIVE</th>\n",
       "      <td>78678.0</td>\n",
       "      <td>5.894888</td>\n",
       "      <td>6.202051</td>\n",
       "      <td>0.0</td>\n",
       "      <td>2.00000</td>\n",
       "      <td>4.000000</td>\n",
       "      <td>8.00000</td>\n",
       "      <td>255.000</td>\n",
       "    </tr>\n",
       "    <tr>\n",
       "      <th>PET SUPPLIES</th>\n",
       "      <td>78678.0</td>\n",
       "      <td>3.174534</td>\n",
       "      <td>6.808228</td>\n",
       "      <td>0.0</td>\n",
       "      <td>0.00000</td>\n",
       "      <td>0.000000</td>\n",
       "      <td>3.00000</td>\n",
       "      <td>103.000</td>\n",
       "    </tr>\n",
       "    <tr>\n",
       "      <th>LAWN AND GARDEN</th>\n",
       "      <td>78678.0</td>\n",
       "      <td>4.371285</td>\n",
       "      <td>7.320915</td>\n",
       "      <td>0.0</td>\n",
       "      <td>0.00000</td>\n",
       "      <td>1.000000</td>\n",
       "      <td>7.00000</td>\n",
       "      <td>201.000</td>\n",
       "    </tr>\n",
       "    <tr>\n",
       "      <th>LINGERIE</th>\n",
       "      <td>78678.0</td>\n",
       "      <td>7.208343</td>\n",
       "      <td>9.780747</td>\n",
       "      <td>0.0</td>\n",
       "      <td>2.00000</td>\n",
       "      <td>5.000000</td>\n",
       "      <td>10.00000</td>\n",
       "      <td>1059.000</td>\n",
       "    </tr>\n",
       "    <tr>\n",
       "      <th>PLAYERS AND ELECTRONICS</th>\n",
       "      <td>78678.0</td>\n",
       "      <td>5.328656</td>\n",
       "      <td>10.067599</td>\n",
       "      <td>0.0</td>\n",
       "      <td>0.00000</td>\n",
       "      <td>0.000000</td>\n",
       "      <td>7.00000</td>\n",
       "      <td>269.000</td>\n",
       "    </tr>\n",
       "    <tr>\n",
       "      <th>LADIESWEAR</th>\n",
       "      <td>78678.0</td>\n",
       "      <td>6.407585</td>\n",
       "      <td>13.517047</td>\n",
       "      <td>0.0</td>\n",
       "      <td>0.00000</td>\n",
       "      <td>0.000000</td>\n",
       "      <td>7.00000</td>\n",
       "      <td>147.000</td>\n",
       "    </tr>\n",
       "    <tr>\n",
       "      <th>SCHOOL AND OFFICE SUPPLIES</th>\n",
       "      <td>78678.0</td>\n",
       "      <td>1.989603</td>\n",
       "      <td>13.803798</td>\n",
       "      <td>0.0</td>\n",
       "      <td>0.00000</td>\n",
       "      <td>0.000000</td>\n",
       "      <td>0.00000</td>\n",
       "      <td>1217.000</td>\n",
       "    </tr>\n",
       "    <tr>\n",
       "      <th>CELEBRATION</th>\n",
       "      <td>78678.0</td>\n",
       "      <td>7.562915</td>\n",
       "      <td>16.057003</td>\n",
       "      <td>0.0</td>\n",
       "      <td>0.00000</td>\n",
       "      <td>1.000000</td>\n",
       "      <td>11.00000</td>\n",
       "      <td>1783.000</td>\n",
       "    </tr>\n",
       "    <tr>\n",
       "      <th>HOME AND KITCHEN II</th>\n",
       "      <td>78678.0</td>\n",
       "      <td>14.686634</td>\n",
       "      <td>30.832457</td>\n",
       "      <td>0.0</td>\n",
       "      <td>0.00000</td>\n",
       "      <td>7.000000</td>\n",
       "      <td>18.00000</td>\n",
       "      <td>1568.000</td>\n",
       "    </tr>\n",
       "    <tr>\n",
       "      <th>GROCERY II</th>\n",
       "      <td>78678.0</td>\n",
       "      <td>20.935992</td>\n",
       "      <td>31.275015</td>\n",
       "      <td>0.0</td>\n",
       "      <td>3.00000</td>\n",
       "      <td>11.000000</td>\n",
       "      <td>29.00000</td>\n",
       "      <td>2931.000</td>\n",
       "    </tr>\n",
       "    <tr>\n",
       "      <th>SEAFOOD</th>\n",
       "      <td>78678.0</td>\n",
       "      <td>22.163020</td>\n",
       "      <td>32.889313</td>\n",
       "      <td>0.0</td>\n",
       "      <td>1.00000</td>\n",
       "      <td>8.000000</td>\n",
       "      <td>28.48350</td>\n",
       "      <td>274.440</td>\n",
       "    </tr>\n",
       "    <tr>\n",
       "      <th>HOME AND KITCHEN I</th>\n",
       "      <td>78678.0</td>\n",
       "      <td>18.400137</td>\n",
       "      <td>35.555608</td>\n",
       "      <td>0.0</td>\n",
       "      <td>0.00000</td>\n",
       "      <td>9.000000</td>\n",
       "      <td>25.00000</td>\n",
       "      <td>1935.000</td>\n",
       "    </tr>\n",
       "    <tr>\n",
       "      <th>PREPARED FOODS</th>\n",
       "      <td>78678.0</td>\n",
       "      <td>96.099588</td>\n",
       "      <td>106.408594</td>\n",
       "      <td>0.0</td>\n",
       "      <td>29.00000</td>\n",
       "      <td>62.000000</td>\n",
       "      <td>121.95475</td>\n",
       "      <td>912.568</td>\n",
       "    </tr>\n",
       "    <tr>\n",
       "      <th>LIQUOR,WINE,BEER</th>\n",
       "      <td>78678.0</td>\n",
       "      <td>84.303986</td>\n",
       "      <td>129.612987</td>\n",
       "      <td>0.0</td>\n",
       "      <td>9.00000</td>\n",
       "      <td>44.000000</td>\n",
       "      <td>106.00000</td>\n",
       "      <td>4821.000</td>\n",
       "    </tr>\n",
       "    <tr>\n",
       "      <th>EGGS</th>\n",
       "      <td>78678.0</td>\n",
       "      <td>167.410699</td>\n",
       "      <td>159.446048</td>\n",
       "      <td>0.0</td>\n",
       "      <td>63.00000</td>\n",
       "      <td>127.000000</td>\n",
       "      <td>222.00000</td>\n",
       "      <td>3110.000</td>\n",
       "    </tr>\n",
       "    <tr>\n",
       "      <th>HOME CARE</th>\n",
       "      <td>78678.0</td>\n",
       "      <td>155.820191</td>\n",
       "      <td>202.752680</td>\n",
       "      <td>0.0</td>\n",
       "      <td>0.00000</td>\n",
       "      <td>97.000000</td>\n",
       "      <td>252.00000</td>\n",
       "      <td>2504.000</td>\n",
       "    </tr>\n",
       "    <tr>\n",
       "      <th>DELI</th>\n",
       "      <td>78678.0</td>\n",
       "      <td>257.038822</td>\n",
       "      <td>207.530143</td>\n",
       "      <td>0.0</td>\n",
       "      <td>129.34975</td>\n",
       "      <td>212.695500</td>\n",
       "      <td>327.30350</td>\n",
       "      <td>2118.325</td>\n",
       "    </tr>\n",
       "    <tr>\n",
       "      <th>PERSONAL CARE</th>\n",
       "      <td>78678.0</td>\n",
       "      <td>261.348725</td>\n",
       "      <td>222.239586</td>\n",
       "      <td>0.0</td>\n",
       "      <td>131.00000</td>\n",
       "      <td>215.000000</td>\n",
       "      <td>331.00000</td>\n",
       "      <td>7504.000</td>\n",
       "    </tr>\n",
       "    <tr>\n",
       "      <th>FROZEN FOODS</th>\n",
       "      <td>78678.0</td>\n",
       "      <td>157.923721</td>\n",
       "      <td>346.077979</td>\n",
       "      <td>0.0</td>\n",
       "      <td>32.93725</td>\n",
       "      <td>79.729998</td>\n",
       "      <td>174.24900</td>\n",
       "      <td>14541.550</td>\n",
       "    </tr>\n",
       "    <tr>\n",
       "      <th>BREAD/BAKERY</th>\n",
       "      <td>78678.0</td>\n",
       "      <td>448.582564</td>\n",
       "      <td>358.115186</td>\n",
       "      <td>0.0</td>\n",
       "      <td>179.00000</td>\n",
       "      <td>387.308000</td>\n",
       "      <td>630.00000</td>\n",
       "      <td>4551.298</td>\n",
       "    </tr>\n",
       "    <tr>\n",
       "      <th>POULTRY</th>\n",
       "      <td>78678.0</td>\n",
       "      <td>343.947416</td>\n",
       "      <td>394.887366</td>\n",
       "      <td>0.0</td>\n",
       "      <td>98.77075</td>\n",
       "      <td>201.153500</td>\n",
       "      <td>450.14125</td>\n",
       "      <td>12143.201</td>\n",
       "    </tr>\n",
       "    <tr>\n",
       "      <th>MEATS</th>\n",
       "      <td>78678.0</td>\n",
       "      <td>337.395055</td>\n",
       "      <td>470.742256</td>\n",
       "      <td>0.0</td>\n",
       "      <td>116.37500</td>\n",
       "      <td>220.044005</td>\n",
       "      <td>455.67000</td>\n",
       "      <td>89576.360</td>\n",
       "    </tr>\n",
       "    <tr>\n",
       "      <th>DAIRY</th>\n",
       "      <td>78678.0</td>\n",
       "      <td>674.038600</td>\n",
       "      <td>655.313397</td>\n",
       "      <td>0.0</td>\n",
       "      <td>235.00000</td>\n",
       "      <td>487.000000</td>\n",
       "      <td>885.00000</td>\n",
       "      <td>5364.000</td>\n",
       "    </tr>\n",
       "    <tr>\n",
       "      <th>CLEANING</th>\n",
       "      <td>78678.0</td>\n",
       "      <td>1042.508363</td>\n",
       "      <td>718.815409</td>\n",
       "      <td>0.0</td>\n",
       "      <td>610.00000</td>\n",
       "      <td>920.000000</td>\n",
       "      <td>1348.00000</td>\n",
       "      <td>10801.000</td>\n",
       "    </tr>\n",
       "    <tr>\n",
       "      <th>PRODUCE</th>\n",
       "      <td>78678.0</td>\n",
       "      <td>1187.489232</td>\n",
       "      <td>2099.611075</td>\n",
       "      <td>0.0</td>\n",
       "      <td>0.00000</td>\n",
       "      <td>179.376000</td>\n",
       "      <td>1514.45150</td>\n",
       "      <td>17850.615</td>\n",
       "    </tr>\n",
       "    <tr>\n",
       "      <th>BEVERAGES</th>\n",
       "      <td>78678.0</td>\n",
       "      <td>2198.859834</td>\n",
       "      <td>2172.070985</td>\n",
       "      <td>0.0</td>\n",
       "      <td>796.00000</td>\n",
       "      <td>1618.000000</td>\n",
       "      <td>2891.00000</td>\n",
       "      <td>25413.000</td>\n",
       "    </tr>\n",
       "    <tr>\n",
       "      <th>GROCERY I</th>\n",
       "      <td>78678.0</td>\n",
       "      <td>3639.159584</td>\n",
       "      <td>2826.764677</td>\n",
       "      <td>0.0</td>\n",
       "      <td>2025.00000</td>\n",
       "      <td>3080.000000</td>\n",
       "      <td>4594.89275</td>\n",
       "      <td>124717.000</td>\n",
       "    </tr>\n",
       "  </tbody>\n",
       "</table>\n",
       "</div>"
      ],
      "text/plain": [
       "                              count         mean          std  min  \\\n",
       "family                                                               \n",
       "BOOKS                       78678.0     0.052353     0.529964  0.0   \n",
       "BABY CARE                   78678.0     0.092961     0.676513  0.0   \n",
       "HOME APPLIANCES             78678.0     0.439869     0.956899  0.0   \n",
       "HARDWARE                    78678.0     1.094563     1.607044  0.0   \n",
       "BEAUTY                      78678.0     3.446732     4.497405  0.0   \n",
       "MAGAZINES                   78678.0     2.381237     5.495999  0.0   \n",
       "AUTOMOTIVE                  78678.0     5.894888     6.202051  0.0   \n",
       "PET SUPPLIES                78678.0     3.174534     6.808228  0.0   \n",
       "LAWN AND GARDEN             78678.0     4.371285     7.320915  0.0   \n",
       "LINGERIE                    78678.0     7.208343     9.780747  0.0   \n",
       "PLAYERS AND ELECTRONICS     78678.0     5.328656    10.067599  0.0   \n",
       "LADIESWEAR                  78678.0     6.407585    13.517047  0.0   \n",
       "SCHOOL AND OFFICE SUPPLIES  78678.0     1.989603    13.803798  0.0   \n",
       "CELEBRATION                 78678.0     7.562915    16.057003  0.0   \n",
       "HOME AND KITCHEN II         78678.0    14.686634    30.832457  0.0   \n",
       "GROCERY II                  78678.0    20.935992    31.275015  0.0   \n",
       "SEAFOOD                     78678.0    22.163020    32.889313  0.0   \n",
       "HOME AND KITCHEN I          78678.0    18.400137    35.555608  0.0   \n",
       "PREPARED FOODS              78678.0    96.099588   106.408594  0.0   \n",
       "LIQUOR,WINE,BEER            78678.0    84.303986   129.612987  0.0   \n",
       "EGGS                        78678.0   167.410699   159.446048  0.0   \n",
       "HOME CARE                   78678.0   155.820191   202.752680  0.0   \n",
       "DELI                        78678.0   257.038822   207.530143  0.0   \n",
       "PERSONAL CARE               78678.0   261.348725   222.239586  0.0   \n",
       "FROZEN FOODS                78678.0   157.923721   346.077979  0.0   \n",
       "BREAD/BAKERY                78678.0   448.582564   358.115186  0.0   \n",
       "POULTRY                     78678.0   343.947416   394.887366  0.0   \n",
       "MEATS                       78678.0   337.395055   470.742256  0.0   \n",
       "DAIRY                       78678.0   674.038600   655.313397  0.0   \n",
       "CLEANING                    78678.0  1042.508363   718.815409  0.0   \n",
       "PRODUCE                     78678.0  1187.489232  2099.611075  0.0   \n",
       "BEVERAGES                   78678.0  2198.859834  2172.070985  0.0   \n",
       "GROCERY I                   78678.0  3639.159584  2826.764677  0.0   \n",
       "\n",
       "                                   25%          50%         75%         max  \n",
       "family                                                                       \n",
       "BOOKS                          0.00000     0.000000     0.00000      51.000  \n",
       "BABY CARE                      0.00000     0.000000     0.00000     116.000  \n",
       "HOME APPLIANCES                0.00000     0.000000     1.00000      15.000  \n",
       "HARDWARE                       0.00000     1.000000     2.00000      49.000  \n",
       "BEAUTY                         0.00000     2.000000     5.00000     136.000  \n",
       "MAGAZINES                      0.00000     0.000000     2.00000      79.000  \n",
       "AUTOMOTIVE                     2.00000     4.000000     8.00000     255.000  \n",
       "PET SUPPLIES                   0.00000     0.000000     3.00000     103.000  \n",
       "LAWN AND GARDEN                0.00000     1.000000     7.00000     201.000  \n",
       "LINGERIE                       2.00000     5.000000    10.00000    1059.000  \n",
       "PLAYERS AND ELECTRONICS        0.00000     0.000000     7.00000     269.000  \n",
       "LADIESWEAR                     0.00000     0.000000     7.00000     147.000  \n",
       "SCHOOL AND OFFICE SUPPLIES     0.00000     0.000000     0.00000    1217.000  \n",
       "CELEBRATION                    0.00000     1.000000    11.00000    1783.000  \n",
       "HOME AND KITCHEN II            0.00000     7.000000    18.00000    1568.000  \n",
       "GROCERY II                     3.00000    11.000000    29.00000    2931.000  \n",
       "SEAFOOD                        1.00000     8.000000    28.48350     274.440  \n",
       "HOME AND KITCHEN I             0.00000     9.000000    25.00000    1935.000  \n",
       "PREPARED FOODS                29.00000    62.000000   121.95475     912.568  \n",
       "LIQUOR,WINE,BEER               9.00000    44.000000   106.00000    4821.000  \n",
       "EGGS                          63.00000   127.000000   222.00000    3110.000  \n",
       "HOME CARE                      0.00000    97.000000   252.00000    2504.000  \n",
       "DELI                         129.34975   212.695500   327.30350    2118.325  \n",
       "PERSONAL CARE                131.00000   215.000000   331.00000    7504.000  \n",
       "FROZEN FOODS                  32.93725    79.729998   174.24900   14541.550  \n",
       "BREAD/BAKERY                 179.00000   387.308000   630.00000    4551.298  \n",
       "POULTRY                       98.77075   201.153500   450.14125   12143.201  \n",
       "MEATS                        116.37500   220.044005   455.67000   89576.360  \n",
       "DAIRY                        235.00000   487.000000   885.00000    5364.000  \n",
       "CLEANING                     610.00000   920.000000  1348.00000   10801.000  \n",
       "PRODUCE                        0.00000   179.376000  1514.45150   17850.615  \n",
       "BEVERAGES                    796.00000  1618.000000  2891.00000   25413.000  \n",
       "GROCERY I                   2025.00000  3080.000000  4594.89275  124717.000  "
      ]
     },
     "execution_count": 8,
     "metadata": {},
     "output_type": "execute_result"
    }
   ],
   "source": [
    "g = train#.loc[train['date'].dt.year == 2013]\n",
    "g.groupby('family')[target].describe().sort_values(by='std')"
   ]
  },
  {
   "cell_type": "code",
   "execution_count": 9,
   "id": "ee8c64e4",
   "metadata": {
    "execution": {
     "iopub.execute_input": "2024-04-27T01:30:11.823446Z",
     "iopub.status.busy": "2024-04-27T01:30:11.823037Z",
     "iopub.status.idle": "2024-04-27T01:30:17.373992Z",
     "shell.execute_reply": "2024-04-27T01:30:17.372600Z"
    },
    "papermill": {
     "duration": 5.562471,
     "end_time": "2024-04-27T01:30:17.377082",
     "exception": false,
     "start_time": "2024-04-27T01:30:11.814611",
     "status": "completed"
    },
    "tags": []
   },
   "outputs": [
    {
     "data": {
      "image/png": "[encoded data removed]",
      "text/plain": [
       "<Figure size 640x480 with 1 Axes>"
      ]
     },
     "metadata": {},
     "output_type": "display_data"
    }
   ],
   "source": [
    "g = train.query('family == \"HARDWARE\"')\n",
    "# g = train.query('store_nbr == 25')\n",
    "# g = g.loc[train['date'].dt.year == 2015]\n",
    "sns.scatterplot(g, x=g['week'], y=target, hue='year', palette='Blues');\n",
    "# g['date'].dt.date.values"
   ]
  },
  {
   "cell_type": "code",
   "execution_count": 10,
   "id": "d1dcbebe",
   "metadata": {
    "execution": {
     "iopub.execute_input": "2024-04-27T01:30:17.396289Z",
     "iopub.status.busy": "2024-04-27T01:30:17.395938Z",
     "iopub.status.idle": "2024-04-27T01:30:18.072585Z",
     "shell.execute_reply": "2024-04-27T01:30:18.071263Z"
    },
    "papermill": {
     "duration": 0.689411,
     "end_time": "2024-04-27T01:30:18.075195",
     "exception": false,
     "start_time": "2024-04-27T01:30:17.385784",
     "status": "completed"
    },
    "tags": []
   },
   "outputs": [
    {
     "data": {
      "image/png": "[encoded data removed]",
      "text/plain": [
       "<Figure size 640x480 with 2 Axes>"
      ]
     },
     "metadata": {},
     "output_type": "display_data"
    }
   ],
   "source": [
    "g = train.query('family==\"HARDWARE\"')\n",
    "g = pd.pivot_table(g, values=target, index='store_nbr', columns='week', aggfunc='std')\n",
    "sns.heatmap(g, cmap='RdBu');"
   ]
  },
  {
   "cell_type": "markdown",
   "id": "4e1a92a9",
   "metadata": {
    "papermill": {
     "duration": 0.010768,
     "end_time": "2024-04-27T01:30:18.095670",
     "exception": false,
     "start_time": "2024-04-27T01:30:18.084902",
     "status": "completed"
    },
    "tags": []
   },
   "source": [
    "# 🤖Model"
   ]
  },
  {
   "cell_type": "code",
   "execution_count": 11,
   "id": "a24e7150",
   "metadata": {
    "execution": {
     "iopub.execute_input": "2024-04-27T01:30:18.118274Z",
     "iopub.status.busy": "2024-04-27T01:30:18.117734Z",
     "iopub.status.idle": "2024-04-27T01:30:18.235948Z",
     "shell.execute_reply": "2024-04-27T01:30:18.234630Z"
    },
    "papermill": {
     "duration": 0.133041,
     "end_time": "2024-04-27T01:30:18.238707",
     "exception": false,
     "start_time": "2024-04-27T01:30:18.105666",
     "status": "completed"
    },
    "tags": []
   },
   "outputs": [],
   "source": [
    "train = train.query('family==\"HARDWARE\"')\n",
    "test = test.query('family==\"HARDWARE\"')"
   ]
  },
  {
   "cell_type": "code",
   "execution_count": 12,
   "id": "9ef95381",
   "metadata": {
    "execution": {
     "iopub.execute_input": "2024-04-27T01:30:18.260676Z",
     "iopub.status.busy": "2024-04-27T01:30:18.260302Z",
     "iopub.status.idle": "2024-04-27T01:30:18.780839Z",
     "shell.execute_reply": "2024-04-27T01:30:18.779770Z"
    },
    "papermill": {
     "duration": 0.534688,
     "end_time": "2024-04-27T01:30:18.783638",
     "exception": false,
     "start_time": "2024-04-27T01:30:18.248950",
     "status": "completed"
    },
    "tags": []
   },
   "outputs": [],
   "source": [
    "from sklearn.base import BaseEstimator, TransformerMixin\n",
    "from sklearn.pipeline import Pipeline, FeatureUnion\n",
    "from sklearn.preprocessing import StandardScaler, OneHotEncoder\n",
    "from sklearn.impute import SimpleImputer\n",
    "\n",
    "class DataSelect(BaseEstimator, TransformerMixin):\n",
    "    def __init__(self, att):\n",
    "        self.att = att\n",
    "    def fit(self, X, y=None):\n",
    "        return self\n",
    "    def transform(self, X, y=None):\n",
    "        return X[self.att]\n",
    "    \n",
    "num_pp = Pipeline([\n",
    "    ('dataselect', DataSelect(['store_nbr', 'week']))\n",
    "    , ('impute', SimpleImputer(strategy='mean'))\n",
    "    , ('scaler', StandardScaler())\n",
    "])\n",
    "\n",
    "cat_pp = Pipeline([\n",
    "    ('dataselect', DataSelect(['family']))\n",
    "    , ('encoder', OneHotEncoder(sparse_output=False))\n",
    "])\n",
    "\n",
    "pipe = FeatureUnion([\n",
    "    ('numeric', num_pp)\n",
    "    , ('cat', cat_pp)\n",
    "])\n",
    "\n",
    "pipe.fit(train)\n",
    "train_pp = pipe.transform(train)\n",
    "test_pp = pipe.transform(test)"
   ]
  },
  {
   "cell_type": "code",
   "execution_count": 13,
   "id": "ec783823",
   "metadata": {
    "execution": {
     "iopub.execute_input": "2024-04-27T01:30:18.804378Z",
     "iopub.status.busy": "2024-04-27T01:30:18.803937Z",
     "iopub.status.idle": "2024-04-27T01:30:18.900082Z",
     "shell.execute_reply": "2024-04-27T01:30:18.898848Z"
    },
    "papermill": {
     "duration": 0.109347,
     "end_time": "2024-04-27T01:30:18.902651",
     "exception": false,
     "start_time": "2024-04-27T01:30:18.793304",
     "status": "completed"
    },
    "tags": []
   },
   "outputs": [],
   "source": [
    "from sklearn.linear_model import LinearRegression\n",
    "from sklearn.svm import LinearSVR\n",
    "from sklearn.ensemble import RandomForestRegressor\n",
    "from sklearn.model_selection import cross_val_score"
   ]
  },
  {
   "cell_type": "code",
   "execution_count": 14,
   "id": "1a393508",
   "metadata": {
    "execution": {
     "iopub.execute_input": "2024-04-27T01:30:18.923006Z",
     "iopub.status.busy": "2024-04-27T01:30:18.922631Z",
     "iopub.status.idle": "2024-04-27T01:30:19.073621Z",
     "shell.execute_reply": "2024-04-27T01:30:19.072263Z"
    },
    "papermill": {
     "duration": 0.165517,
     "end_time": "2024-04-27T01:30:19.077564",
     "exception": false,
     "start_time": "2024-04-27T01:30:18.912047",
     "status": "completed"
    },
    "tags": []
   },
   "outputs": [
    {
     "data": {
      "text/plain": [
       "1.6103075483601885"
      ]
     },
     "execution_count": 14,
     "metadata": {},
     "output_type": "execute_result"
    }
   ],
   "source": [
    "reg_lin = LinearRegression()\n",
    "reg_lin.fit(train_pp, train[target])\n",
    "np.sqrt(\n",
    "    -cross_val_score(\n",
    "        reg_lin, train_pp, train[target], scoring='neg_mean_squared_error').mean()\n",
    ")"
   ]
  },
  {
   "cell_type": "code",
   "execution_count": 15,
   "id": "76c2b8ad",
   "metadata": {
    "execution": {
     "iopub.execute_input": "2024-04-27T01:30:19.114245Z",
     "iopub.status.busy": "2024-04-27T01:30:19.113537Z",
     "iopub.status.idle": "2024-04-27T01:30:20.703656Z",
     "shell.execute_reply": "2024-04-27T01:30:20.701726Z"
    },
    "papermill": {
     "duration": 1.612061,
     "end_time": "2024-04-27T01:30:20.707357",
     "exception": false,
     "start_time": "2024-04-27T01:30:19.095296",
     "status": "completed"
    },
    "tags": []
   },
   "outputs": [
    {
     "data": {
      "text/plain": [
       "1.6895052919753493"
      ]
     },
     "execution_count": 15,
     "metadata": {},
     "output_type": "execute_result"
    }
   ],
   "source": [
    "reg_svr = LinearSVR()\n",
    "reg_svr.fit(train_pp, train[target])\n",
    "np.sqrt(\n",
    "    -cross_val_score(\n",
    "        reg_svr, train_pp, train[target], scoring='neg_mean_squared_error').mean()\n",
    ")"
   ]
  },
  {
   "cell_type": "code",
   "execution_count": 16,
   "id": "1bb8f930",
   "metadata": {
    "execution": {
     "iopub.execute_input": "2024-04-27T01:30:20.744280Z",
     "iopub.status.busy": "2024-04-27T01:30:20.743515Z",
     "iopub.status.idle": "2024-04-27T01:30:20.750152Z",
     "shell.execute_reply": "2024-04-27T01:30:20.748909Z"
    },
    "papermill": {
     "duration": 0.027646,
     "end_time": "2024-04-27T01:30:20.752964",
     "exception": false,
     "start_time": "2024-04-27T01:30:20.725318",
     "status": "completed"
    },
    "tags": []
   },
   "outputs": [],
   "source": [
    "from sklearn.model_selection import cross_val_predict"
   ]
  },
  {
   "cell_type": "code",
   "execution_count": 17,
   "id": "4c91399a",
   "metadata": {
    "execution": {
     "iopub.execute_input": "2024-04-27T01:30:20.790131Z",
     "iopub.status.busy": "2024-04-27T01:30:20.789594Z",
     "iopub.status.idle": "2024-04-27T01:30:20.795351Z",
     "shell.execute_reply": "2024-04-27T01:30:20.794115Z"
    },
    "papermill": {
     "duration": 0.027724,
     "end_time": "2024-04-27T01:30:20.798237",
     "exception": false,
     "start_time": "2024-04-27T01:30:20.770513",
     "status": "completed"
    },
    "tags": []
   },
   "outputs": [],
   "source": [
    "import matplotlib.pyplot as plt"
   ]
  },
  {
   "cell_type": "code",
   "execution_count": 18,
   "id": "dfb470bc",
   "metadata": {
    "execution": {
     "iopub.execute_input": "2024-04-27T01:30:20.826941Z",
     "iopub.status.busy": "2024-04-27T01:30:20.826549Z",
     "iopub.status.idle": "2024-04-27T01:30:21.519198Z",
     "shell.execute_reply": "2024-04-27T01:30:21.518033Z"
    },
    "papermill": {
     "duration": 0.706265,
     "end_time": "2024-04-27T01:30:21.521755",
     "exception": false,
     "start_time": "2024-04-27T01:30:20.815490",
     "status": "completed"
    },
    "tags": []
   },
   "outputs": [
    {
     "data": {
      "text/plain": [
       "<matplotlib.collections.PathCollection at 0x7b3903e907c0>"
      ]
     },
     "execution_count": 18,
     "metadata": {},
     "output_type": "execute_result"
    },
    {
     "data": {
      "image/png": "[encoded data removed]",
      "text/plain": [
       "<Figure size 640x480 with 1 Axes>"
      ]
     },
     "metadata": {},
     "output_type": "display_data"
    }
   ],
   "source": [
    "y = cross_val_predict(reg_lin, train_pp, train[target])\n",
    "x = train[target].values\n",
    "plt.scatter(x, y)"
   ]
  },
  {
   "cell_type": "markdown",
   "id": "36d6c1c0",
   "metadata": {
    "papermill": {
     "duration": 0.009983,
     "end_time": "2024-04-27T01:30:21.542150",
     "exception": false,
     "start_time": "2024-04-27T01:30:21.532167",
     "status": "completed"
    },
    "tags": []
   },
   "source": [
    "# 📌Notes\n",
    "- There is something around Sep-Oct for the year 2016. No one is buying stuff for store number 25.\n",
    "\n",
    "- Remember that the goal is to accurately predict the quantity of unit sales. Start with doing a baseline, something that rarely deviates and understand how the score works.\n",
    "- I tried to brute force it so that I see my gaps. What I learned, I do not know everything, yet... "
   ]
  },
  {
   "cell_type": "code",
   "execution_count": null,
   "id": "9b93ecf3",
   "metadata": {
    "papermill": {
     "duration": 0.01043,
     "end_time": "2024-04-27T01:30:21.562764",
     "exception": false,
     "start_time": "2024-04-27T01:30:21.552334",
     "status": "completed"
    },
    "tags": []
   },
   "outputs": [],
   "source": []
  }
 ],
 "metadata": {
  "kaggle": {
   "accelerator": "none",
   "dataSources": [
    {
     "databundleVersionId": 2887556,
     "sourceId": 29781,
     "sourceType": "competition"
    }
   ],
   "dockerImageVersionId": 30698,
   "isGpuEnabled": false,
   "isInternetEnabled": true,
   "language": "python",
   "sourceType": "notebook"
  },
  "kernelspec": {
   "display_name": "Python 3",
   "language": "python",
   "name": "python3"
  },
  "language_info": {
   "codemirror_mode": {
    "name": "ipython",
    "version": 3
   },
   "file_extension": ".py",
   "mimetype": "text/x-python",
   "name": "python",
   "nbconvert_exporter": "python",
   "pygments_lexer": "ipython3",
   "version": "3.10.13"
  },
  "papermill": {
   "default_parameters": {},
   "duration": 21.577208,
   "end_time": "2024-04-27T01:30:22.297145",
   "environment_variables": {},
   "exception": null,
   "input_path": "__notebook__.ipynb",
   "output_path": "__notebook__.ipynb",
   "parameters": {},
   "start_time": "2024-04-27T01:30:00.719937",
   "version": "2.5.0"
  }
 },
 "nbformat": 4,
 "nbformat_minor": 5
}
